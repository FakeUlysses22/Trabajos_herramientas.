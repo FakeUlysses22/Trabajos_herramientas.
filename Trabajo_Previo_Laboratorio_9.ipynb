{
  "nbformat": 4,
  "nbformat_minor": 0,
  "metadata": {
    "colab": {
      "provenance": []
    },
    "kernelspec": {
      "name": "python3",
      "display_name": "Python 3"
    },
    "language_info": {
      "name": "python"
    }
  },
  "cells": [
    {
      "cell_type": "markdown",
      "source": [
        "# CC1000 Trabajo Previo Laboratorio 9\n",
        "\n",
        "**Nombre:** *Escriba acá su nombre*"
      ],
      "metadata": {
        "id": "TdgaJAI7QPhO"
      }
    },
    {
      "cell_type": "markdown",
      "source": [
        "## Actividad"
      ],
      "metadata": {
        "id": "dN3cjsOAQjel"
      }
    },
    {
      "cell_type": "markdown",
      "source": [
        "### 1. Creación de funciones"
      ],
      "metadata": {
        "id": "cGqKPL64RFTK"
      }
    },
    {
      "cell_type": "markdown",
      "source": [
        "El siguiente bloque de código únicamente tienen que ejecutarlo. Este código importa `random`, un módulo que nos entrega funciones para la generación aleatoria de números."
      ],
      "metadata": {
        "id": "MzwasJoKadvB"
      }
    },
    {
      "cell_type": "code",
      "execution_count": null,
      "metadata": {
        "id": "cIB1UenrQEl0"
      },
      "outputs": [],
      "source": [
        "import random"
      ]
    },
    {
      "cell_type": "markdown",
      "source": [
        "Ejecuten el siguiente código para crear la función `tirar_moneda`. Esta función simula la tirada de una moneda, entregando $0$ si el resultado fue cara, y $1$ si el resultado fue sello."
      ],
      "metadata": {
        "id": "k7r1g8_JPo4b"
      }
    },
    {
      "cell_type": "code",
      "source": [
        "def tirar_moneda():\n",
        "  return random.randint(0, 1)"
      ],
      "metadata": {
        "id": "3cxfu0NSPpGn"
      },
      "execution_count": null,
      "outputs": []
    },
    {
      "cell_type": "markdown",
      "source": [
        "Creen una función de nombre `tirar_dado`, que no reciba ningún argumento, y entregue como valor un número entero aleatorio entre el $1$ y el $6$."
      ],
      "metadata": {
        "id": "ERMS1lnNSBBI"
      }
    },
    {
      "cell_type": "code",
      "source": [
        "# Escriban acá su función"
      ],
      "metadata": {
        "id": "9Ottc5X6apOs"
      },
      "execution_count": null,
      "outputs": []
    },
    {
      "cell_type": "markdown",
      "source": [
        "Ejecuten el siguiente código para crear la función `area_circulo`, que recibe como argumento el radio de un círculo, y retorna su área como resultado."
      ],
      "metadata": {
        "id": "lfzKgnLA4LvR"
      }
    },
    {
      "cell_type": "code",
      "source": [
        "import math\n",
        "\n",
        "def area_circulo(r):\n",
        "  return math.pi * (r ** 2)"
      ],
      "metadata": {
        "id": "LRQIpn0k4L9e"
      },
      "execution_count": null,
      "outputs": []
    },
    {
      "cell_type": "markdown",
      "source": [
        "Creen la función de nombre `volumen_cilindro`, que recibe como argumento el radio y la altura de un cilindro, y retorna su volumen como resultado."
      ],
      "metadata": {
        "id": "7GxoXxxoU9lh"
      }
    },
    {
      "cell_type": "code",
      "source": [
        "# Escriban acá su función"
      ],
      "metadata": {
        "id": "X6yUxPqeU-Cm"
      },
      "execution_count": null,
      "outputs": []
    },
    {
      "cell_type": "markdown",
      "source": [
        "Modifiquen la siguiente función para que dé el resultado correcto. La función recibe las notas del trabajo previo, laboratorio presencial y post-laboratorio de una semana y da como resultado la nota final de la semana según las ponderaciones señaladas al inicio del semestre."
      ],
      "metadata": {
        "id": "q4jVPq7UVb7c"
      }
    },
    {
      "cell_type": "code",
      "source": [
        "def nota_semanal(nota_trabajo_previo, nota_laboratorio_presencial, nota_post_laboratorio):\n",
        "  return (nota_trabajo_previo + nota_laboratorio_presencial + nota_post_laboratorio) / 3"
      ],
      "metadata": {
        "id": "lxDj6K7TVceR"
      },
      "execution_count": null,
      "outputs": []
    },
    {
      "cell_type": "markdown",
      "source": [
        "Pueden crear bloques de código extras abajo de este párrafo para verificar si las funciones creadas dan los resultados esperados."
      ],
      "metadata": {
        "id": "56CJ2bBtknfh"
      }
    },
    {
      "cell_type": "markdown",
      "source": [
        "### 2. Sistemas de ecuaciones\n",
        "\n",
        "El siguiente bloque de código únicamente tienen que ejecutarlo. Este código importa `numpy`."
      ],
      "metadata": {
        "id": "0dQ3Rj3oQv3N"
      }
    },
    {
      "cell_type": "code",
      "source": [
        "import numpy as np"
      ],
      "metadata": {
        "id": "5r2RvCSqiqdZ"
      },
      "execution_count": null,
      "outputs": []
    },
    {
      "cell_type": "markdown",
      "source": [
        "Modele el siguiente problema mediante un sistema de ecuaciones lineales, dejando las constantes a la derecha de la ecuación.\n",
        "\n",
        "> “The Interview” es una película cuya aparición indignó al líder norcoreano Kim Jong-un en 2014. Amenazó a la empresa Sony Pictures (productora) y en noviembre de ese año, los principales sistemas informáticos de la empresa fueron hackeados. Sony suspendió el estreno de la película en cines, pero en diciembre anunció que el total de sus ventas por internet (online) y los arriendos sumaban 15 millones (USD). Sony no dijo específicamente cuántos arriendos y cuántas ventas hubo, pero afirmó que en total habían sido 2 millones de transacciones. El arriendo de la película vale 6 (USD) y la venta 15 (USD).  \n",
        "\n",
        "Almacene en la variable $A$ una matriz con los coeficientes de las variables y en la variable $b$ un vector (o matriz de una columna) los valores de las constantes."
      ],
      "metadata": {
        "id": "KRZL6-OziqMl"
      }
    },
    {
      "cell_type": "code",
      "source": [
        "A = 0 # Matriz con los coeficientes del sistema\n",
        "b = 0 # Vector con los valores de las constantes"
      ],
      "metadata": {
        "id": "Bsr82r2rNFHG"
      },
      "execution_count": null,
      "outputs": []
    },
    {
      "cell_type": "markdown",
      "source": [
        "Resuelva el sistema de ecuaciones (calcule `v`) ocupando las operaciones matriciales vistas en clases."
      ],
      "metadata": {
        "id": "ZCa41dfpOViJ"
      }
    },
    {
      "cell_type": "code",
      "source": [
        "v = 0 # Vector con los valores de las incógnitas"
      ],
      "metadata": {
        "id": "mGZ6pOjgOaDb"
      },
      "execution_count": null,
      "outputs": []
    }
  ]
}