{
  "nbformat": 4,
  "nbformat_minor": 0,
  "metadata": {
    "colab": {
      "provenance": [],
      "toc_visible": true
    },
    "kernelspec": {
      "name": "python3",
      "display_name": "Python 3"
    },
    "language_info": {
      "name": "python"
    }
  },
  "cells": [
    {
      "cell_type": "code",
      "execution_count": null,
      "metadata": {
        "colab": {
          "base_uri": "https://localhost:8080/"
        },
        "id": "PrAdC0ky8N0Z",
        "outputId": "796486f8-b42e-4f5d-f6a3-0de81d5b865c"
      },
      "outputs": [
        {
          "output_type": "stream",
          "name": "stdout",
          "text": [
            "=== Cálculo de la hipotenusa ===\n",
            "Ingrese la longitud del primer cateto: 6\n",
            "Ingrese la longitud del segundo cateto: 8\n",
            "La hipotenusa del triángulo es: 10.00\n",
            "\n",
            "=== ¿Qué carrera estudias? ===\n",
            "Ingresa tu carrera (ej: Industrial, DCC): DCC\n",
            "LES REGALAN PUROS UNOS PORQUE NO ESTÁN EN EL DCC 😎💻\n"
          ]
        }
      ],
      "source": [
        "#Universidad de Chile.\n",
        "# Facultad de Ciencias Físicas y Matemáticas\n",
        "# Departamento de Ciencias de la Computación\n",
        "# CC1000 – Herramientas Computacionales\n",
        "# Trabajo Previo Laboratorio 7 - Introducción a Python\n",
        "#Nombre: Puai Nahoe\n",
        "#Seccion 4\n",
        "\n",
        "\n",
        "print(\"=== Cálculo de la hipotenusa ===\")\n",
        "cateto1 = float(input(\"Ingrese la longitud del primer cateto: \"))\n",
        "cateto2 = float(input(\"Ingrese la longitud del segundo cateto: \"))\n",
        "\n",
        "hipotenusa = (cateto1**2 + cateto2**2)**0.5\n",
        "print(f\"La hipotenusa del triángulo es: {hipotenusa:.2f}\")\n",
        "\n",
        "\n",
        "\n",
        "print(\"\\n=== ¿Qué carrera estudias? ===\")\n",
        "carrera = input(\"Ingresa tu carrera (ej: Industrial, DCC): \").strip().upper()\n",
        "\n",
        "if carrera == \"INDUSTRIAL\":\n",
        "    print(\"¡SOY INDUSTRIAL, GERENTE GENERAL! 💼🚀\")\n",
        "elif carrera == \"DCC\":\n",
        "    print(\"LES REGALAN PUROS UNOS PORQUE NO ESTÁN EN EL DCC 😎💻\")\n",
        "else:\n",
        "    print(\"Buen intento, pero nada supera a Industrial/DCC.\")"
      ]
    }
  ]
}