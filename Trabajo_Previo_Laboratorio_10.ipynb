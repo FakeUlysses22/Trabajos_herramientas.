{
  "cells": [
    {
      "cell_type": "code",
      "execution_count": null,
      "metadata": {
        "id": "JUT0IbfiCljB"
      },
      "outputs": [],
      "source": []
    },
    {
      "cell_type": "markdown",
      "metadata": {
        "id": "TdgaJAI7QPhO"
      },
      "source": [
        "# CC1000 Trabajo Previo Laboratorio 10\n",
        "\n",
        "**Nombre:** *Escriba acá su nombre*"
      ]
    },
    {
      "cell_type": "markdown",
      "metadata": {
        "id": "RrpAt5mX5xXi"
      },
      "source": [
        "En este trabajo previo, trajaremos con un dataset de juguete (irrealistamente simple). Debido a esto, nos vamos a dar la libertad de crear el archivo CSV que contenga estos datos mediante un programa de Python.\n",
        "\n",
        "Ejecute el siguiente bloque de código para crear el archivo `inventario.csv` que se guarda en la carpeta `content` del computador."
      ]
    },
    {
      "cell_type": "code",
      "execution_count": 26,
      "metadata": {
        "id": "rSCHEr0u5wp-"
      },
      "outputs": [],
      "source": [
        "texto = \"\"\"nombre,precio,cantidad,valoracion\n",
        "hamburguesa,1000,28,3\n",
        "lapiz,800,31,5\n",
        "libro,2000,9,4\n",
        "cuaderno,1500,25,4\n",
        "goma,300,50,5\n",
        "carpeta,1200,20,4\n",
        "mochila,10000,12,4\n",
        "regla,500,40,3\n",
        "calculadora,8500,7,5\n",
        "mouse,7000,15,4\n",
        "teclado,12000,10,4\n",
        "monitor,85000,5,5\n",
        "silla,25000,8,4\n",
        "mesa,50000,6,3\n",
        "tijeras,900,30,4\n",
        "pegamento,700,35,3\n",
        "botella,1200,22,4\n",
        "termo,3500,14,5\n",
        "audifonos,6000,18,4\n",
        "usb,4000,20,5\n",
        "cargador,9000,13,4\n",
        "celular,150000,4,5\n",
        "funda,2000,25,4\n",
        "reloj,18000,7,4\n",
        "cuadro,6000,9,3\n",
        "lampara,10000,11,4\n",
        "plumon,750,45,5\n",
        "borrador,350,48,4\n",
        "sacapuntas,600,37,3\n",
        "notebook,300000,3,5\n",
        "\"\"\"\n",
        "\n",
        "with open('inventario.csv', 'w') as f:\n",
        "  f.write(texto)"
      ]
    },
    {
      "cell_type": "markdown",
      "metadata": {
        "id": "ZQfcJ7am8F1S"
      },
      "source": [
        "Verifique en el apartado de *Archivos* que se encuentra este archivo en la carpeta. De ser así, recuerde que puede ver  una visualización de la información en `inventario.csv` dándole doble click."
      ]
    },
    {
      "cell_type": "markdown",
      "metadata": {
        "id": "dN3cjsOAQjel"
      },
      "source": [
        "## Actividad"
      ]
    },
    {
      "cell_type": "markdown",
      "metadata": {
        "id": "cGqKPL64RFTK"
      },
      "source": [
        "### 1. Lectura de un archivo CSV"
      ]
    },
    {
      "cell_type": "markdown",
      "metadata": {
        "id": "MzwasJoKadvB"
      },
      "source": [
        "El siguiente bloque de código únicamente tiene que ejecutarlo. Este código importa `numpy`, que será el módulo que usaremos para trabajar con los datos."
      ]
    },
    {
      "cell_type": "code",
      "execution_count": 27,
      "metadata": {
        "id": "cIB1UenrQEl0"
      },
      "outputs": [],
      "source": [
        "import numpy as np"
      ]
    },
    {
      "cell_type": "markdown",
      "metadata": {
        "id": "q4jVPq7UVb7c"
      },
      "source": [
        "Cargue los datos escritos en el archivo `inventario.csv` usando la función `genfromtxt`, y guarde la matriz resultante en una variable de nombre `inventario`. Asegúrese de ignorar la fila de encabezados."
      ]
    },
    {
      "cell_type": "code",
      "execution_count": 28,
      "metadata": {
        "id": "lxDj6K7TVceR"
      },
      "outputs": [],
      "source": [
        "inventario = np.genfromtxt('inventario.csv', delimiter=',', skip_header=1, usecols=(1, 2, 3))"
      ]
    },
    {
      "cell_type": "markdown",
      "metadata": {
        "id": "0dQ3Rj3oQv3N"
      },
      "source": [
        "### 2. Extracción de información importante\n",
        "\n",
        "A continuación se harán distintas preguntas con respecto a la información de nuestro pequeño dataset. Su trabajo es escribir las instrucciones necesarias para extraer esta información.\n",
        "\n",
        "**¿Cuál es el precio del segundo objeto en el inventario?**"
      ]
    },
    {
      "cell_type": "code",
      "execution_count": 29,
      "metadata": {
        "id": "-C3fWsRpCpJs"
      },
      "outputs": [],
      "source": [
        "precio_segundo_objeto = inventario[1, 0]"
      ]
    },
    {
      "cell_type": "markdown",
      "metadata": {
        "id": "SaToRBmBCpdI"
      },
      "source": [
        "**¿Cuántos productos distintos hay dentro del inventario?**"
      ]
    },
    {
      "cell_type": "code",
      "execution_count": null,
      "metadata": {
        "id": "8bypxxU_BpsI"
      },
      "outputs": [],
      "source": [
        "productos_como_tuplas = [tuple(row) for row in inventario]\n",
        "\n",
        "productos_distintos = len(set(productos_como_tuplas))\n"
      ]
    },
    {
      "cell_type": "markdown",
      "metadata": {
        "id": "6W2P02zpBqAm"
      },
      "source": [
        "**¿Cuánto vale el producto más caro dentro del inventario?**"
      ]
    },
    {
      "cell_type": "code",
      "execution_count": 41,
      "metadata": {
        "id": "Bsr82r2rNFHG"
      },
      "outputs": [],
      "source": [
        "precios = inventario[:, 0]\n",
        "producto_carrero = np.max(precios)"
      ]
    },
    {
      "cell_type": "markdown",
      "metadata": {
        "id": "ZCa41dfpOViJ"
      },
      "source": [
        "**¿Cuál es la valoración promedio de un producto en el inventario?**"
      ]
    },
    {
      "cell_type": "code",
      "execution_count": 36,
      "metadata": {
        "id": "mGZ6pOjgOaDb"
      },
      "outputs": [],
      "source": [
        "valoraciones = inventario[:, 2]\n",
        "valoracion_promedio = np.mean(valoraciones)\n"
      ]
    },
    {
      "cell_type": "markdown",
      "metadata": {
        "id": "BjkDGtiS_fXc"
      },
      "source": [
        "**¿Cuánto dinero generaría la empresa al vender todos los productos del inventario?**"
      ]
    },
    {
      "cell_type": "code",
      "execution_count": 43,
      "metadata": {
        "id": "530TuOuf_xKV"
      },
      "outputs": [],
      "source": [
        "precios = inventario[:, 0]\n",
        "cantidades = inventario[:, 1]\n",
        "dinero_total = np.sum(precios * cantidades)\n"
      ]
    }
  ],
  "metadata": {
    "colab": {
      "provenance": []
    },
    "kernelspec": {
      "display_name": "Python 3",
      "name": "python3"
    },
    "language_info": {
      "name": "python"
    }
  },
  "nbformat": 4,
  "nbformat_minor": 0
}
