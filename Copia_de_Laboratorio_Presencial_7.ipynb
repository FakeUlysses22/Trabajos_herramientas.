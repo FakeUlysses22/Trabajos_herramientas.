{
  "cells": [
    {
      "cell_type": "markdown",
      "metadata": {
        "id": "lNDpwDjXWhKW"
      },
      "source": [
        "# CC1000 Laboratorio Presencial 7\n",
        "\n",
        "**Integrantes:** *Escriban acá sus nombres*"
      ]
    },
    {
      "cell_type": "markdown",
      "metadata": {
        "id": "Ru4IcmpS9OXi"
      },
      "source": [
        "## Código de inicialización\n",
        "\n",
        "Ejecuten el siguiente bloque de código para que se almacenen en la memoria del computador las siguientes variables:\n",
        "\n",
        "- `r`: Radio interior de la diana (zona central negra), cuyo valor en este caso es `1`.\n",
        "\n",
        "- `R`: Radio total de la diana, cuyo valor en este caso es `2`.\n",
        "\n",
        "- `pi`: Contiene el valor aproximado de π.\n",
        "\n",
        "**NO MODIFIQUEN EL CONTENIDO DE ESTAS VARIABLES**."
      ]
    },
    {
      "cell_type": "code",
      "execution_count": null,
      "metadata": {
        "id": "st2R6ObeWWUr"
      },
      "outputs": [],
      "source": [
        "import random\n",
        "import math\n",
        "\n",
        "r = 1\n",
        "R = 2\n",
        "\n",
        "pi = math.pi"
      ]
    },
    {
      "cell_type": "markdown",
      "metadata": {
        "id": "kTx_--lJXV38"
      },
      "source": [
        "## Actividad"
      ]
    },
    {
      "cell_type": "markdown",
      "metadata": {
        "id": "C4DGHGXqNq7E"
      },
      "source": [
        "### 1. Cálculo del puntaje al tirar un dardo\n",
        "\n",
        "En Python, se puede ocupa la palabra clave `def` para crear una función. Las líneas de código luego de los `:` definen las instrucciones que se ejecutarán si es que se llama a la función. Estas líneas de código **deben estar identadas** para que Python las reconozca como instrucciones de la función.\n",
        "\n",
        "En el siguiente bloque de código se está creando una función de nombre `tirar_dardo`, que al llamarse debería simular una tirada **uniformemente aleatoria** y entregar el puntaje que se consiguió.\n",
        "\n",
        "\\begin{align*}\n",
        "\\texttt{tirar_dardo}: ∅ \\rightarrow \\texttt{{0, 3, -2, 1}}\n",
        "\\end{align*}\n",
        "\n",
        "Su trabajo consiste únicamente en asegurarse de modificar la variable `puntaje`, a partir de condiciones que dependen de la posición *(x, y)* en la que cayó el dardo, definida por las variables `x` e `y`. Por ejemplo, si el valor en `x` y en `y` es 0, entonces el dardo cayó al centro de la diana (zona negra), por lo que el puntaje debería valer `3`.\n",
        "\n",
        "**MODIFIQUEN EL SIGUIENTE BLOQUE DE CÓDIGO PARA QUE LA VARIABLE PUNTAJE ALMACENE EL VALOR CORRECTO**."
      ]
    },
    {
      "cell_type": "code",
      "execution_count": null,
      "metadata": {
        "id": "HWUxj7cSMyWx"
      },
      "outputs": [],
      "source": [
        "def tirar_dardo():\n",
        "  # x e y contienen valores aleatorios entre -R y R\n",
        "  x = random.uniform(-R, R)\n",
        "  y = random.uniform(-R, R)\n",
        "\n",
        "  # ============ ESCRIBAN SU CÓDIGO ACÁ ===============\n",
        "\n",
        "  distancia = math.sqrt(x**2 + y**2)\n",
        "\n",
        "  puntaje = 0\n",
        "\n",
        "  if distancia <= R:\n",
        "        if distancia <= r:\n",
        "            puntaje = 3\n",
        "        else:\n",
        "            if (x > 0 and y > 0) or (x < 0 and y < 0):\n",
        "                puntaje = -2\n",
        "\n",
        "            elif (x > 0 and y < 0) or (x < 0 and y > 0):\n",
        "                puntaje = 1\n",
        "\n",
        "\n",
        "  # ===================================================\n",
        "  return puntaje"
      ]
    },
    {
      "cell_type": "markdown",
      "metadata": {
        "id": "89Ssf-w4c5vr"
      },
      "source": [
        "Para probar que la función da resultados coherentes, tienen que ejecutar el bloque anterior para que se cree la función `tirar_dardo` (o actualice si es que ya estaba creada). Luego de esto, pueden ejecutar el siguiente bloque de código todas las veces que quieran y ver qué les entrega."
      ]
    },
    {
      "cell_type": "code",
      "execution_count": null,
      "metadata": {
        "colab": {
          "base_uri": "https://localhost:8080/"
        },
        "id": "YcWDtJhJc_0M",
        "outputId": "82914354-ae30-432d-fc16-ad1f5c87ab11"
      },
      "outputs": [
        {
          "data": {
            "text/plain": [
              "0"
            ]
          },
          "execution_count": 10,
          "metadata": {},
          "output_type": "execute_result"
        }
      ],
      "source": [
        "tirar_dardo()"
      ]
    },
    {
      "cell_type": "markdown",
      "metadata": {
        "id": "d7MY3CKNM_K8"
      },
      "source": [
        "### 2. Múltiples tiros de dardo\n",
        "\n",
        "Python nos ofrece la palabra clave `while` para ejecutar las mismas instrucciones múltiples veces. Las líneas de código identadas luego de los `:` definen las instrucciones que se ejecutarán repetidamente mientras que una condición que nosotros definimos se cumpla (valor booleano que va después del `while`).\n",
        "\n",
        "En el código de abajo se utiliza esta sintaxis para simular la tirada de `m` dardos. La variable `puntaje_real` es modificada constantemente, pues se le suma en cada tirada el puntaje que se obtuvo, usando la función `tirar_dardo` que ustedes completaron.\n",
        "\n",
        "Su trabajo en esta parte trata de calcular el valor correcto para la variable `puntaje_teorico`, usando las indicaciones del enunciado principal. Al ejecutar el bloque de código, se mostrará en pantalla la división entre el puntaje real y el teórico, la cual debería acercarse a 1 a medida que aumenta el valor de `m`.\n",
        "\n",
        "**MODIFIQUEN EL SIGUIENTE BLOQUE DE CÓDIGO PARA QUE LA VARIABLE DEL PUNTAJE TEÓRICO ALMACENE EL VALOR CORRECTO**."
      ]
    },
    {
      "cell_type": "code",
      "execution_count": null,
      "metadata": {
        "colab": {
          "base_uri": "https://localhost:8080/"
        },
        "id": "vovTEFsDXXh6",
        "outputId": "17ff4c66-da66-4d11-e3be-ab93b2b156ca"
      },
      "outputs": [
        {
          "name": "stdout",
          "output_type": "stream",
          "text": [
            "0.23767138168389704\n"
          ]
        }
      ],
      "source": [
        "# Cantidad de dardos que se van a tirar, pueden modificar el valor de esta\n",
        "# variable para experimentar\n",
        "m = 100\n",
        "\n",
        "# Cantidad de dardos restantes, inicialmente es m y va decreciendo hasta llegar a 0\n",
        "m_restantes = m\n",
        "\n",
        "# Puntaje real luego de tirar los m dardos\n",
        "puntaje_real = 0\n",
        "while m_restantes > 0:\n",
        "  puntaje_real = puntaje_real + tirar_dardo()\n",
        "  m_restantes = m_restantes - 1\n",
        "\n",
        "# ============ ESCRIBAN SU CÓDIGO ACÁ ===============\n",
        "\n",
        "A_T = (2*R)**2\n",
        "A_D = pi * R**2\n",
        "A_N = pi * r**2\n",
        "A_R = (A_D - A_N) / 2\n",
        "A_V = (A_D - A_N) / 2\n",
        "\n",
        "puntaje_teorico = m * (3*A_N - 2*A_R + A_V) / A_T\n",
        "\n",
        "# ===================================================\n",
        "\n",
        "print(puntaje_real / puntaje_teorico)"
      ]
    }
  ],
  "metadata": {
    "colab": {
      "provenance": []
    },
    "kernelspec": {
      "display_name": "Python 3",
      "name": "python3"
    },
    "language_info": {
      "name": "python"
    }
  },
  "nbformat": 4,
  "nbformat_minor": 0
}
